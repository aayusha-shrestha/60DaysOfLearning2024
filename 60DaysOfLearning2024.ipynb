{
 "cells": [
  {
   "cell_type": "markdown",
   "id": "a4218935",
   "metadata": {},
   "source": [
    "### Day 1: NumPy Basics"
   ]
  },
  {
   "cell_type": "code",
   "execution_count": 1,
   "id": "30f9b3d8",
   "metadata": {},
   "outputs": [],
   "source": [
    "# Importing numpy library\n",
    "import numpy as np"
   ]
  },
  {
   "cell_type": "code",
   "execution_count": 2,
   "id": "d027d9b8",
   "metadata": {},
   "outputs": [
    {
     "data": {
      "text/plain": [
       "array([1, 2, 3, 4, 5])"
      ]
     },
     "execution_count": 2,
     "metadata": {},
     "output_type": "execute_result"
    }
   ],
   "source": [
    "# Creating an array from list\n",
    "lst = [1,2,3,4,5]\n",
    "np_arr = np.array(lst)\n",
    "np_arr"
   ]
  },
  {
   "cell_type": "code",
   "execution_count": 3,
   "id": "5e6ca01d",
   "metadata": {},
   "outputs": [
    {
     "name": "stdout",
     "output_type": "stream",
     "text": [
      "<class 'numpy.ndarray'>\n"
     ]
    }
   ],
   "source": [
    "# Printing the data type\n",
    "print(type(np_arr))"
   ]
  },
  {
   "cell_type": "code",
   "execution_count": 4,
   "id": "1ed6237e",
   "metadata": {},
   "outputs": [
    {
     "data": {
      "text/plain": [
       "4"
      ]
     },
     "execution_count": 4,
     "metadata": {},
     "output_type": "execute_result"
    }
   ],
   "source": [
    "# Accessing elements in the array by index\n",
    "np_arr[3]"
   ]
  },
  {
   "cell_type": "code",
   "execution_count": 5,
   "id": "5b268986",
   "metadata": {},
   "outputs": [
    {
     "data": {
      "text/plain": [
       "array([ 2,  4,  6,  8, 10])"
      ]
     },
     "execution_count": 5,
     "metadata": {},
     "output_type": "execute_result"
    }
   ],
   "source": [
    "# Multiplying the array with a constant\n",
    "np_arr2 = np_arr * 2\n",
    "np_arr2"
   ]
  },
  {
   "cell_type": "code",
   "execution_count": 6,
   "id": "b7002a6c",
   "metadata": {},
   "outputs": [
    {
     "name": "stdout",
     "output_type": "stream",
     "text": [
      "[ True  True False False False]\n"
     ]
    }
   ],
   "source": [
    "# Selection using condition\n",
    "a = np_arr < 3\n",
    "print(a)"
   ]
  },
  {
   "cell_type": "code",
   "execution_count": 7,
   "id": "791172a3",
   "metadata": {},
   "outputs": [
    {
     "data": {
      "text/plain": [
       "array([1, 2])"
      ]
     },
     "execution_count": 7,
     "metadata": {},
     "output_type": "execute_result"
    }
   ],
   "source": [
    "# Selection using square brackets, SUBSETTING\n",
    "np_arr[a]"
   ]
  },
  {
   "cell_type": "code",
   "execution_count": 8,
   "id": "e15dab2e",
   "metadata": {},
   "outputs": [
    {
     "data": {
      "text/plain": [
       "array([4, 5, 2])"
      ]
     },
     "execution_count": 8,
     "metadata": {},
     "output_type": "execute_result"
    }
   ],
   "source": [
    "# Arithmetic operators on numpy arrays\n",
    "np.array([True, 1, 2]) + np.array([3, 4, False])"
   ]
  },
  {
   "cell_type": "code",
   "execution_count": 9,
   "id": "18d3d110",
   "metadata": {},
   "outputs": [
    {
     "data": {
      "text/plain": [
       "array(['1', '4', 'Hi', 'True'], dtype='<U11')"
      ]
     },
     "execution_count": 9,
     "metadata": {},
     "output_type": "execute_result"
    }
   ],
   "source": [
    "# Elements with different data types, TYPE COERCION\n",
    "np.array([1,4,'Hi',True])"
   ]
  },
  {
   "cell_type": "markdown",
   "id": "424b8dbe",
   "metadata": {},
   "source": [
    "### Day 2: NumPy"
   ]
  },
  {
   "cell_type": "code",
   "execution_count": 11,
   "id": "59f6cb00",
   "metadata": {},
   "outputs": [
    {
     "data": {
      "text/plain": [
       "array([1, 2, 3, 4, 5])"
      ]
     },
     "execution_count": 11,
     "metadata": {},
     "output_type": "execute_result"
    }
   ],
   "source": [
    "np_arr"
   ]
  },
  {
   "cell_type": "code",
   "execution_count": 10,
   "id": "79b8e408",
   "metadata": {},
   "outputs": [
    {
     "name": "stdout",
     "output_type": "stream",
     "text": [
      "[2 3]\n"
     ]
    }
   ],
   "source": [
    "# Slicing\n",
    "print(np_arr[1:3])"
   ]
  },
  {
   "cell_type": "code",
   "execution_count": 12,
   "id": "762690f0",
   "metadata": {},
   "outputs": [
    {
     "data": {
      "text/plain": [
       "array({1: 'Ram', 2: 'Sita', 3: 'Gita'}, dtype=object)"
      ]
     },
     "execution_count": 12,
     "metadata": {},
     "output_type": "execute_result"
    }
   ],
   "source": [
    "# Dictionary to numpy arrays\n",
    "std = {1:'Ram',2:'Sita',3:'Gita'}\n",
    "np_std = np.array(std)\n",
    "np_std"
   ]
  },
  {
   "cell_type": "code",
   "execution_count": 13,
   "id": "3abdc88f",
   "metadata": {},
   "outputs": [
    {
     "name": "stdout",
     "output_type": "stream",
     "text": [
      "<class 'numpy.ndarray'>\n"
     ]
    }
   ],
   "source": [
    "# Verifying type\n",
    "print(type(np_std))"
   ]
  },
  {
   "cell_type": "code",
   "execution_count": 17,
   "id": "1b391683",
   "metadata": {},
   "outputs": [
    {
     "data": {
      "text/plain": [
       "1"
      ]
     },
     "execution_count": 17,
     "metadata": {},
     "output_type": "execute_result"
    }
   ],
   "source": [
    "# Finding size\n",
    "np_std.size"
   ]
  },
  {
   "cell_type": "code",
   "execution_count": 18,
   "id": "355fd179",
   "metadata": {},
   "outputs": [
    {
     "data": {
      "text/plain": [
       "dtype('O')"
      ]
     },
     "execution_count": 18,
     "metadata": {},
     "output_type": "execute_result"
    }
   ],
   "source": [
    "# Finding data type\n",
    "np_std.dtype"
   ]
  },
  {
   "cell_type": "code",
   "execution_count": 30,
   "id": "7ab421ad",
   "metadata": {},
   "outputs": [
    {
     "data": {
      "text/plain": [
       "'Sita'"
      ]
     },
     "execution_count": 30,
     "metadata": {},
     "output_type": "execute_result"
    }
   ],
   "source": [
    "# Accessing specific element\n",
    "extracted_dict = np_std.item()\n",
    "extracted_dict[2]"
   ]
  },
  {
   "cell_type": "code",
   "execution_count": 25,
   "id": "e094cd96",
   "metadata": {},
   "outputs": [
    {
     "data": {
      "text/plain": [
       "array([[1, 2, 3],\n",
       "       [4, 5, 6]])"
      ]
     },
     "execution_count": 25,
     "metadata": {},
     "output_type": "execute_result"
    }
   ],
   "source": [
    "# Creating 2D Array\n",
    "lst_2d = [[1,2,3],[4,5,6]]\n",
    "np_2d = np.array(lst_2d)\n",
    "np_2d"
   ]
  },
  {
   "cell_type": "code",
   "execution_count": 31,
   "id": "7076e726",
   "metadata": {},
   "outputs": [
    {
     "data": {
      "text/plain": [
       "3"
      ]
     },
     "execution_count": 31,
     "metadata": {},
     "output_type": "execute_result"
    }
   ],
   "source": [
    "# Accessing specific element in 2d array\n",
    "lst_2d[0][2]"
   ]
  },
  {
   "cell_type": "code",
   "execution_count": null,
   "id": "c8715501",
   "metadata": {},
   "outputs": [],
   "source": []
  }
 ],
 "metadata": {
  "kernelspec": {
   "display_name": "Python 3 (ipykernel)",
   "language": "python",
   "name": "python3"
  },
  "language_info": {
   "codemirror_mode": {
    "name": "ipython",
    "version": 3
   },
   "file_extension": ".py",
   "mimetype": "text/x-python",
   "name": "python",
   "nbconvert_exporter": "python",
   "pygments_lexer": "ipython3",
   "version": "3.11.5"
  }
 },
 "nbformat": 4,
 "nbformat_minor": 5
}
